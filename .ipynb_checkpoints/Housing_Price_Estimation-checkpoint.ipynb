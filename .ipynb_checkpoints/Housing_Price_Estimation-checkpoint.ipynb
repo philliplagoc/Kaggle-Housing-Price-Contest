{
 "cells": [
  {
   "cell_type": "markdown",
   "metadata": {},
   "source": [
    "# Introduction\n",
    "\n",
    "This is my attempt for [Kaggle's Housing Price Competition](https://www.kaggle.com/c/house-prices-advanced-regression-techniques/overview), where participants have to use regression techniques in order to predict housing prices. \n",
    "\n",
    "In order to accomplish my goal of accurately predicting housing prices, I will perform EDA on the given training dataset. This will allow me to see trends and patterns that may prove useful when I build the prediction model down the line. \n",
    "\n",
    "More specifically, I will first try to understand the data overall (i.e. the number and variety of predictors, the number of entries, etc.), then analyze the dependent variable (the housing price) and the independent variables. Afterwards, I will perform some basic cleaning like dealing with outliers and missing data, feature engineering and feature extracting.\n",
    "\n",
    "This portion of this project is heavily inspired by [Pedro Marcelino's data exploration of this competition](https://www.kaggle.com/pmarcelino/comprehensive-data-exploration-with-python#COMPREHENSIVE-DATA-EXPLORATION-WITH-PYTHON) as well as [this other Kaggle notebook](https://www.kaggle.com/dgawlik/house-prices-eda/notebook).\n",
    "\n",
    "Finally, I will create my model and submit my predictions using the provided testing dataset to the Kaggle leaderboard, and report what rank I get."
   ]
  },
  {
   "cell_type": "markdown",
   "metadata": {},
   "source": [
    "## Taking a Look at the Data..."
   ]
  },
  {
   "cell_type": "code",
   "execution_count": 2,
   "metadata": {},
   "outputs": [],
   "source": [
    "import pandas as pd\n",
    "import matplotlib.pyplot as plt\n",
    "import seaborn as sns\n",
    "import numpy as np\n",
    "from scipy import stats\n",
    "\n",
    "from scipy.stats import norm\n",
    "from sklearn.preprocessing import StandardScaler\n",
    "\n",
    "import warnings\n",
    "warnings.filterwarnings('ignore')\n",
    "%matplotlib inline"
   ]
  },
  {
   "cell_type": "code",
   "execution_count": 3,
   "metadata": {},
   "outputs": [
    {
     "data": {
      "text/html": [
       "<div>\n",
       "<style scoped>\n",
       "    .dataframe tbody tr th:only-of-type {\n",
       "        vertical-align: middle;\n",
       "    }\n",
       "\n",
       "    .dataframe tbody tr th {\n",
       "        vertical-align: top;\n",
       "    }\n",
       "\n",
       "    .dataframe thead th {\n",
       "        text-align: right;\n",
       "    }\n",
       "</style>\n",
       "<table border=\"1\" class=\"dataframe\">\n",
       "  <thead>\n",
       "    <tr style=\"text-align: right;\">\n",
       "      <th></th>\n",
       "      <th>Id</th>\n",
       "      <th>MSSubClass</th>\n",
       "      <th>MSZoning</th>\n",
       "      <th>LotFrontage</th>\n",
       "      <th>LotArea</th>\n",
       "      <th>Street</th>\n",
       "      <th>Alley</th>\n",
       "      <th>LotShape</th>\n",
       "      <th>LandContour</th>\n",
       "      <th>Utilities</th>\n",
       "      <th>...</th>\n",
       "      <th>PoolArea</th>\n",
       "      <th>PoolQC</th>\n",
       "      <th>Fence</th>\n",
       "      <th>MiscFeature</th>\n",
       "      <th>MiscVal</th>\n",
       "      <th>MoSold</th>\n",
       "      <th>YrSold</th>\n",
       "      <th>SaleType</th>\n",
       "      <th>SaleCondition</th>\n",
       "      <th>SalePrice</th>\n",
       "    </tr>\n",
       "  </thead>\n",
       "  <tbody>\n",
       "    <tr>\n",
       "      <th>0</th>\n",
       "      <td>1</td>\n",
       "      <td>60</td>\n",
       "      <td>RL</td>\n",
       "      <td>65.0</td>\n",
       "      <td>8450</td>\n",
       "      <td>Pave</td>\n",
       "      <td>NaN</td>\n",
       "      <td>Reg</td>\n",
       "      <td>Lvl</td>\n",
       "      <td>AllPub</td>\n",
       "      <td>...</td>\n",
       "      <td>0</td>\n",
       "      <td>NaN</td>\n",
       "      <td>NaN</td>\n",
       "      <td>NaN</td>\n",
       "      <td>0</td>\n",
       "      <td>2</td>\n",
       "      <td>2008</td>\n",
       "      <td>WD</td>\n",
       "      <td>Normal</td>\n",
       "      <td>208500</td>\n",
       "    </tr>\n",
       "    <tr>\n",
       "      <th>1</th>\n",
       "      <td>2</td>\n",
       "      <td>20</td>\n",
       "      <td>RL</td>\n",
       "      <td>80.0</td>\n",
       "      <td>9600</td>\n",
       "      <td>Pave</td>\n",
       "      <td>NaN</td>\n",
       "      <td>Reg</td>\n",
       "      <td>Lvl</td>\n",
       "      <td>AllPub</td>\n",
       "      <td>...</td>\n",
       "      <td>0</td>\n",
       "      <td>NaN</td>\n",
       "      <td>NaN</td>\n",
       "      <td>NaN</td>\n",
       "      <td>0</td>\n",
       "      <td>5</td>\n",
       "      <td>2007</td>\n",
       "      <td>WD</td>\n",
       "      <td>Normal</td>\n",
       "      <td>181500</td>\n",
       "    </tr>\n",
       "    <tr>\n",
       "      <th>2</th>\n",
       "      <td>3</td>\n",
       "      <td>60</td>\n",
       "      <td>RL</td>\n",
       "      <td>68.0</td>\n",
       "      <td>11250</td>\n",
       "      <td>Pave</td>\n",
       "      <td>NaN</td>\n",
       "      <td>IR1</td>\n",
       "      <td>Lvl</td>\n",
       "      <td>AllPub</td>\n",
       "      <td>...</td>\n",
       "      <td>0</td>\n",
       "      <td>NaN</td>\n",
       "      <td>NaN</td>\n",
       "      <td>NaN</td>\n",
       "      <td>0</td>\n",
       "      <td>9</td>\n",
       "      <td>2008</td>\n",
       "      <td>WD</td>\n",
       "      <td>Normal</td>\n",
       "      <td>223500</td>\n",
       "    </tr>\n",
       "    <tr>\n",
       "      <th>3</th>\n",
       "      <td>4</td>\n",
       "      <td>70</td>\n",
       "      <td>RL</td>\n",
       "      <td>60.0</td>\n",
       "      <td>9550</td>\n",
       "      <td>Pave</td>\n",
       "      <td>NaN</td>\n",
       "      <td>IR1</td>\n",
       "      <td>Lvl</td>\n",
       "      <td>AllPub</td>\n",
       "      <td>...</td>\n",
       "      <td>0</td>\n",
       "      <td>NaN</td>\n",
       "      <td>NaN</td>\n",
       "      <td>NaN</td>\n",
       "      <td>0</td>\n",
       "      <td>2</td>\n",
       "      <td>2006</td>\n",
       "      <td>WD</td>\n",
       "      <td>Abnorml</td>\n",
       "      <td>140000</td>\n",
       "    </tr>\n",
       "    <tr>\n",
       "      <th>4</th>\n",
       "      <td>5</td>\n",
       "      <td>60</td>\n",
       "      <td>RL</td>\n",
       "      <td>84.0</td>\n",
       "      <td>14260</td>\n",
       "      <td>Pave</td>\n",
       "      <td>NaN</td>\n",
       "      <td>IR1</td>\n",
       "      <td>Lvl</td>\n",
       "      <td>AllPub</td>\n",
       "      <td>...</td>\n",
       "      <td>0</td>\n",
       "      <td>NaN</td>\n",
       "      <td>NaN</td>\n",
       "      <td>NaN</td>\n",
       "      <td>0</td>\n",
       "      <td>12</td>\n",
       "      <td>2008</td>\n",
       "      <td>WD</td>\n",
       "      <td>Normal</td>\n",
       "      <td>250000</td>\n",
       "    </tr>\n",
       "  </tbody>\n",
       "</table>\n",
       "<p>5 rows × 81 columns</p>\n",
       "</div>"
      ],
      "text/plain": [
       "   Id  MSSubClass MSZoning  LotFrontage  LotArea Street Alley LotShape  \\\n",
       "0   1          60       RL         65.0     8450   Pave   NaN      Reg   \n",
       "1   2          20       RL         80.0     9600   Pave   NaN      Reg   \n",
       "2   3          60       RL         68.0    11250   Pave   NaN      IR1   \n",
       "3   4          70       RL         60.0     9550   Pave   NaN      IR1   \n",
       "4   5          60       RL         84.0    14260   Pave   NaN      IR1   \n",
       "\n",
       "  LandContour Utilities  ... PoolArea PoolQC Fence MiscFeature MiscVal MoSold  \\\n",
       "0         Lvl    AllPub  ...        0    NaN   NaN         NaN       0      2   \n",
       "1         Lvl    AllPub  ...        0    NaN   NaN         NaN       0      5   \n",
       "2         Lvl    AllPub  ...        0    NaN   NaN         NaN       0      9   \n",
       "3         Lvl    AllPub  ...        0    NaN   NaN         NaN       0      2   \n",
       "4         Lvl    AllPub  ...        0    NaN   NaN         NaN       0     12   \n",
       "\n",
       "  YrSold  SaleType  SaleCondition  SalePrice  \n",
       "0   2008        WD         Normal     208500  \n",
       "1   2007        WD         Normal     181500  \n",
       "2   2008        WD         Normal     223500  \n",
       "3   2006        WD        Abnorml     140000  \n",
       "4   2008        WD         Normal     250000  \n",
       "\n",
       "[5 rows x 81 columns]"
      ]
     },
     "execution_count": 3,
     "metadata": {},
     "output_type": "execute_result"
    }
   ],
   "source": [
    "data = pd.read_csv('train.csv')\n",
    "\n",
    "data.head()"
   ]
  },
  {
   "cell_type": "code",
   "execution_count": 4,
   "metadata": {},
   "outputs": [
    {
     "data": {
      "text/plain": [
       "(1460, 81)"
      ]
     },
     "execution_count": 4,
     "metadata": {},
     "output_type": "execute_result"
    }
   ],
   "source": [
    "data.shape"
   ]
  },
  {
   "cell_type": "markdown",
   "metadata": {},
   "source": [
    "Above, we see that there are 1460 entries with 81 variables. One of these variables (`SalePrice`) is our dependent variable, and is the value we are trying to predict. Another variable (`Id`) is simply used to mark unique entries, and will not help our model predict `SalePrice`. \n",
    "\n",
    "So, **each entry has 79 independent variables and 1 dependent variable.**\n",
    "The descriptions for these variables can be found in `data_description.txt`.\n",
    "\n",
    "Looking through these variables, I have chosen these variables as expected to be important in predicting the house's price. Of course, this is done at first glance and this is going off of a simple, preliminary peek at the variables.\n",
    "\n",
    "| Variable Name | Type | Description | Why I think this is important |\n",
    "|----------------|--------------|----------------------------------------------------------------|-----------------------------------------------------------------------------------------------------------------------------------------------------|\n",
    "| `GrLivArea` | Quantitative | Above grade (ground) living area square feet` | The size of the actual living space is a characteristic of homes that seems to most coincide with the home's price. |\n",
    "| `LotArea` | Quantitative | Lot size in square feet | The size of the whole property seems important (as opposed to just the living space), as larger properties tend to be more expensive. |\n",
    "| `Neighborhood` | Categorical | Physical locations within Ames City Limits | The location of the property is an important variable, as properties in nicer places are more expensive. |\n",
    "| `HouseStyle` | Categorical | Style of dwelling | How the property is set up sounds like it could be an indicator of the property's price. |\n",
    "| `OverallQual` | Categorical | Rates the overall material and finish of the house (from 1-10) | Though I am not sure how this was calculated, this can show that higher rated properties have higher prices. |\n",
    "| `OverallCond` | Categorical | Rates the overall condition of the house (from 1-10) | Again, I am not sure how this was calculated, but houses with a higher rating for its overall condition could be more expensive. |\n",
    "| `YearBuilt` | Categorical | Original construction date | Older homes may have an impact on the price of the house, and may have different prices than newer homes. |\n",
    "| `PoolQC` | Categorical | Pool Quality | Some homes do not have a pool, and as such, these homes would be less expensive than those with pools. |\n",
    "| `TotalBsmtSF`` | Quantitative | Total square feet of basement area | The size of the basement seems like it could determine which homes are more expensive, as larger basements could be found in more expensive houses. |\n",
    "\n",
    "**Note: Again, this is going off of a simple peek at the variables.**\n",
    "\n",
    "Other than the two seemingly 'subjective' variables (`OverallQual` and `OverallCond`), we see that eight of the 9 variables that I deemed important have to do with the physical characteristics of the building itself, where as one variable (`Neighborhood`), has to do with the location of the home.\n",
    "\n",
    "In general, I chose variables that were more broad. For example, instead of looking at the number of bedrooms in the home (`Bedrooms`), I instead chose `GrLivArea`, which seems to encompass the area of living space above ground already. This is done to try and avoid confounding. There do exist other 'subjective' variables, such as the quality of the garage (`GarageQual`) and quality of the exterior of the house (`ExterQual`). I chose `OverallQual` instead, as I believe that this variable encompasses the other subjective variables, as it is looking at the house _overall_.\n",
    "\n"
   ]
  },
  {
   "cell_type": "markdown",
   "metadata": {},
   "source": [
    "## `SalePrice`: The Dependent Variable\n",
    "\n",
    "As said before, the variable we are trying to predict for this competition is the final sales price of the house, measured by the `SalePrice` column in the dataset."
   ]
  },
  {
   "cell_type": "code",
   "execution_count": 31,
   "metadata": {},
   "outputs": [
    {
     "data": {
      "text/plain": [
       "count      1460.000000\n",
       "mean     180921.195890\n",
       "std       79442.502883\n",
       "min       34900.000000\n",
       "25%      129975.000000\n",
       "50%      163000.000000\n",
       "75%      214000.000000\n",
       "max      755000.000000\n",
       "Name: SalePrice, dtype: float64"
      ]
     },
     "execution_count": 31,
     "metadata": {},
     "output_type": "execute_result"
    }
   ],
   "source": [
    "data['SalePrice'].describe()"
   ]
  },
  {
   "cell_type": "code",
   "execution_count": 48,
   "metadata": {},
   "outputs": [
    {
     "data": {
      "image/png": "[encoded data removed]",
      "text/plain": [
       "<Figure size 720x576 with 1 Axes>"
      ]
     },
     "metadata": {
      "needs_background": "light"
     },
     "output_type": "display_data"
    }
   ],
   "source": [
    "fig, ax = plt.subplots(figsize=(10, 8))\n",
    "ax.set_title('Histogram of SalePrice')\n",
    "ax.set_ylabel('Frequency')\n",
    "ax = sns.distplot(data['SalePrice'])\n",
    "plt.show()"
   ]
  },
  {
   "cell_type": "code",
   "execution_count": 50,
   "metadata": {},
   "outputs": [
    {
     "name": "stdout",
     "output_type": "stream",
     "text": [
      "Skewness: 1.8828757597682129\n",
      "Kurtosis: 6.536281860064529\n"
     ]
    }
   ],
   "source": [
    "print('Skewness:', data['SalePrice'].skew())\n",
    "print('Kurtosis:', data['SalePrice'].kurtosis())"
   ]
  },
  {
   "cell_type": "markdown",
   "metadata": {},
   "source": [
    "Some notable characteristics from looking at this information:\n",
    "\n",
    "- The mean `SalePrice` is around \\\\$180k, which is lower than today's average of about \\\\$220k (as of 1/6/2020) in Ames, Iowa, where this dataset is taken from. As such, this dataset is not up-to-date.\n",
    "- The minimum housing price is about \\\\$3400, and not a negative number or 0, showing that the housing prices were recorded properly.\n",
    "- The maximum housing price is about \\\\$755k, which seems to be an outlier given the mean. \n",
    "- **Skewness measures lack of symmetry of a graph**, where symmetry is defined as a graph looking similar on the left side of the center point as on the right side. 0 represents a perfectly symmetrical graph i.e. a normal distribution. Values farther from 0 show more skewed distributions. In this case, we see that the data is skewed to the right given the positive value for the skewness. [Cited from here.](https://www.itl.nist.gov/div898/handbook/eda/section3/eda35b.htm)\n",
    "- **Kurtosis measures the tailedness of the distribution**, and whether or not it is 'heavily-tailed' or 'light-tailed' in relation to the normal distribution. The standard normal distribution has a kurtosis of 0, and positive values indicate a distribution with a heavier tale, as in this case. [Cited from here.](https://www.itl.nist.gov/div898/handbook/eda/section3/eda35b.htm)\n",
    "- Looking at the graph, one can see that this is a **unimodal distribution skewed heavily towards increasing sales prices**. Let us test and see whether or not our intuitions are correct and check the normality of this distribution.\n"
   ]
  },
  {
   "cell_type": "code",
   "execution_count": 59,
   "metadata": {},
   "outputs": [
    {
     "data": {
      "image/png": "[encoded data removed]",
      "text/plain": [
       "<Figure size 360x288 with 1 Axes>"
      ]
     },
     "metadata": {
      "needs_background": "light"
     },
     "output_type": "display_data"
    }
   ],
   "source": [
    "fig, ax = plt.subplots(figsize=(5, 4))\n",
    "ax.set_title('Histogram of SalePrice - Testing Normality')\n",
    "ax.set_ylabel('Frequency')\n",
    "ax = sns.distplot(data['SalePrice'], fit = norm)\n",
    "plt.show()"
   ]
  },
  {
   "cell_type": "markdown",
   "metadata": {},
   "source": [
    "Above, the blue line is the gaussian kernel density estimate of the histogram, which is a way of predicting the probability density function of `SalePrice`. The black line is the maximum likelihood gaussian distribution fit of the data. These two lines should be similar with each other if the data were normal. This implies that `SalePrice` is not normal."
   ]
  },
  {
   "cell_type": "code",
   "execution_count": 60,
   "metadata": {},
   "outputs": [
    {
     "data": {
      "image/png": "[encoded data removed]",
      "text/plain": [
       "<Figure size 432x288 with 1 Axes>"
      ]
     },
     "metadata": {
      "needs_background": "light"
     },
     "output_type": "display_data"
    }
   ],
   "source": [
    "res = stats.probplot(data['SalePrice'], plot=plt)"
   ]
  },
  {
   "cell_type": "markdown",
   "metadata": {},
   "source": [
    "This is a [probability plot](https://www.itl.nist.gov/div898/handbook/eda/section3/probplot.htm) of the data (blue dots) and of the normal distribution (red line). A probability plot is a graphical means of verifying if a given distribution is similar to another theoretical distribution (such as the normal distribution). The points are plotted in such a way that they should form a straight, diagonal line. Deviations from a straight line imply that it is not like the theoretical distribution it is being compared with. \n",
    "\n",
    "These two lines should be similar if the data were normal, thus implying again that `SalePrice` is not normal. \n",
    "\n",
    "To deal with non-normality, we can simply transform the data. There are many methods for transforming the data, including applying a [Johnson SU transformation](https://en.wikipedia.org/wiki/Johnson%27s_SU-distribution) or by [applying the log function to the data](http://onlinestatbook.com/2/transformations/log.html). Given the positive skewness of this problem, I will use log transformation for `SalePrice`."
   ]
  },
  {
   "cell_type": "code",
   "execution_count": 61,
   "metadata": {},
   "outputs": [],
   "source": [
    "#data['SalePrice'] = np.log(data['SalePrice'])"
   ]
  },
  {
   "cell_type": "code",
   "execution_count": null,
   "metadata": {},
   "outputs": [],
   "source": []
  }
 ],
 "metadata": {
  "kernelspec": {
   "display_name": "Python 3",
   "language": "python",
   "name": "python3"
  },
  "language_info": {
   "codemirror_mode": {
    "name": "ipython",
    "version": 3
   },
   "file_extension": ".py",
   "mimetype": "text/x-python",
   "name": "python",
   "nbconvert_exporter": "python",
   "pygments_lexer": "ipython3",
   "version": "3.7.3"
  }
 },
 "nbformat": 4,
 "nbformat_minor": 2
}
