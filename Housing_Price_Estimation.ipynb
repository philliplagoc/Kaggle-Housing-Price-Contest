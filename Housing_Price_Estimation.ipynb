{
 "cells": [
  {
   "cell_type": "markdown",
   "metadata": {},
   "source": [
    "# Introduction\n",
    "\n",
    "This is my attempt for [Kaggle's Housing Price Competition](https://www.kaggle.com/c/house-prices-advanced-regression-techniques/overview), where participants have to use regression techniques in order to predict housing prices. \n",
    "\n",
    "In order to accomplish my goal of accurately predicting housing prices, I will perform EDA on the given training dataset. This will allow me to see trends and patterns that may prove useful when I build the prediction model down the line. \n",
    "\n",
    "More specifically, I will first try to understand the data overall (i.e. the number and variety of predictors, the number of entries, etc.), then analyze the dependent variable (the housing price) and the independent variables. Afterwards, I will perform some basic cleaning like dealing with outliers and missing data, feature engineering and feature extracting.\n",
    "\n",
    "This portion of this project is heavily inspired by [Pedro Marcelino's data exploration of this competition](https://www.kaggle.com/pmarcelino/comprehensive-data-exploration-with-python#COMPREHENSIVE-DATA-EXPLORATION-WITH-PYTHON) as well as [this other Kaggle notebook](https://www.kaggle.com/dgawlik/house-prices-eda/notebook).\n",
    "\n",
    "Finally, I will create my model and submit my predictions using the provided testing dataset to the Kaggle leaderboard, and report what rank I get."
   ]
  },
  {
   "cell_type": "markdown",
   "metadata": {},
   "source": [
    "## Taking a Look at the Data..."
   ]
  },
  {
   "cell_type": "code",
   "execution_count": 2,
   "metadata": {},
   "outputs": [],
   "source": [
    "import pandas as pd\n",
    "import matplotlib.pyplot as plt\n",
    "import seaborn as sns\n",
    "import numpy as np\n",
    "from scipy.stats import norm\n",
    "from sklearn.preprocessing import StandardScaler\n",
    "from scipy import stats\n",
    "import warnings\n",
    "warnings.filterwarnings('ignore')\n",
    "%matplotlib inline"
   ]
  },
  {
   "cell_type": "code",
   "execution_count": null,
   "metadata": {},
   "outputs": [],
   "source": []
  }
 ],
 "metadata": {
  "kernelspec": {
   "display_name": "Python 3",
   "language": "python",
   "name": "python3"
  },
  "language_info": {
   "codemirror_mode": {
    "name": "ipython",
    "version": 3
   },
   "file_extension": ".py",
   "mimetype": "text/x-python",
   "name": "python",
   "nbconvert_exporter": "python",
   "pygments_lexer": "ipython3",
   "version": "3.7.3"
  }
 },
 "nbformat": 4,
 "nbformat_minor": 2
}
